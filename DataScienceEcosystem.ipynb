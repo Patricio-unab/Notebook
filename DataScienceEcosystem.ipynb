{
 "cells": [
  {
   "cell_type": "markdown",
   "id": "bd0c293e-57a2-4a44-bc97-3f22ce3d4d75",
   "metadata": {},
   "source": [
    "# Data Science Tools and Ecosystem"
   ]
  },
  {
   "cell_type": "markdown",
   "id": "5e4a5585-8719-475e-9599-d1f756cfade2",
   "metadata": {},
   "source": [
    "### In this notebook, Data Science Tools and Ecosystem are summarized."
   ]
  },
  {
   "cell_type": "markdown",
   "id": "2db8d133-196c-40c9-8564-c6c2f99d3783",
   "metadata": {},
   "source": [
    "#### Some of the popular languages that Data Scientists use are:\n",
    "##### 1. Python\n",
    "##### 2. R\n",
    "##### 3. SQL\n",
    "##### 4. Java\n",
    "##### 5. Julia"
   ]
  },
  {
   "cell_type": "markdown",
   "id": "321cf81a-6f7c-407d-880b-0d01e2356217",
   "metadata": {},
   "source": [
    "#### Some of the commonly used libraries used by Data Scientists include:\n",
    "##### 1. Pandas\n",
    "##### 2. NumPy\n",
    "##### 3. Matplotlib\n",
    "##### 4. Scikit-learn\n",
    "##### 5. TensorFlow\n",
    "##### 6. Keras"
   ]
  },
  {
   "cell_type": "markdown",
   "id": "ff8bb872-1856-49ce-aca4-39b8332b6ca6",
   "metadata": {},
   "source": [
    "| Data Science Tools       |\n",
    "|--------------------------|\n",
    "| Jupyter Notebook         |\n",
    "| RStudio                  |\n",
    "| Apache Zeppelin          |"
   ]
  },
  {
   "cell_type": "markdown",
   "id": "1d21c3c2-3e53-4d55-9dc3-140757273750",
   "metadata": {},
   "source": [
    "### Below are a few examples of evaluating arithmetic expressions in Python"
   ]
  },
  {
   "cell_type": "markdown",
   "id": "82b8f0c9-a684-468e-96bf-5098806c047d",
   "metadata": {},
   "source": [
    "### This a simple arithmetic expression to mutiply then add integers"
   ]
  },
  {
   "cell_type": "code",
   "execution_count": 36,
   "id": "8a286472-ce9b-4796-9c10-352eb8488958",
   "metadata": {},
   "outputs": [
    {
     "data": {
      "text/plain": [
       "17"
      ]
     },
     "execution_count": 36,
     "metadata": {},
     "output_type": "execute_result"
    }
   ],
   "source": [
    "resultado=(3*4)+5\n",
    "resultado"
   ]
  },
  {
   "cell_type": "markdown",
   "id": "14c3adc4-9f6e-4add-a316-589e3f5bbf00",
   "metadata": {},
   "source": [
    "### This will convert 200 minutes to hours by diving by 60"
   ]
  },
  {
   "cell_type": "code",
   "execution_count": 34,
   "id": "431037a5-c121-48a7-ade5-6bbcf4a19ac0",
   "metadata": {},
   "outputs": [
    {
     "data": {
      "text/plain": [
       "3.3333333333333335"
      ]
     },
     "execution_count": 34,
     "metadata": {},
     "output_type": "execute_result"
    }
   ],
   "source": [
    "hours = 200/60\n",
    "hours"
   ]
  },
  {
   "cell_type": "markdown",
   "id": "c4bd7e03-22dc-49bc-b63b-0b88ec8851b6",
   "metadata": {},
   "source": [
    "**Objectives:**\n",
    "\n",
    "- List popular languages for Data Science\n",
    "- Identify commonly used libraries in Data Science\n",
    "- Describe open-source tools used in Data Science environments\n",
    "- Demonstrate basic arithmetic expressions in Python\n",
    "- Understand the ecosystem and tools available for Data Science"
   ]
  },
  {
   "cell_type": "markdown",
   "id": "06eb5a54-6672-4411-82ed-97165e97eaf6",
   "metadata": {},
   "source": [
    "## Author\n",
    "\n",
    "PATRICIO GARRIDO"
   ]
  },
  {
   "cell_type": "code",
   "execution_count": null,
   "id": "837cffdf-1876-41dd-bb58-e0a1fbe62f35",
   "metadata": {},
   "outputs": [],
   "source": []
  }
 ],
 "metadata": {
  "kernelspec": {
   "display_name": "Python 3 (ipykernel)",
   "language": "python",
   "name": "python3"
  },
  "language_info": {
   "codemirror_mode": {
    "name": "ipython",
    "version": 3
   },
   "file_extension": ".py",
   "mimetype": "text/x-python",
   "name": "python",
   "nbconvert_exporter": "python",
   "pygments_lexer": "ipython3",
   "version": "3.12.7"
  }
 },
 "nbformat": 4,
 "nbformat_minor": 5
}
